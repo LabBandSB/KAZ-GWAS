{
 "cells": [
  {
   "cell_type": "code",
   "execution_count": 1,
   "id": "1b342712-c303-48c1-b735-8dfa5dfee98a",
   "metadata": {},
   "outputs": [
    {
     "name": "stdout",
     "output_type": "stream",
     "text": [
      "Empirical p-value for LSBL=-0.0016: 0.2900\n"
     ]
    }
   ],
   "source": [
    "import pandas as pd\n",
    "df = pd.read_csv(\"FSTs.txt\", sep=\"\\t\")\n",
    "\n",
    "# Compute LSBL for Kazakh population\n",
    "df[\"LSBL_KAZ\"] = (df[\"FST_EUR_KAZ\"] + df[\"FST_EAS_KAZ\"] - df[\"FST_EAS_EUR\"]) / 2\n",
    "\n",
    "# Save full results\n",
    "df.to_csv(\"lsbl_results.csv\", index=False)\n",
    "\n",
    "# Function to compute empirical p-value (1 - percentile)\n",
    "def empirical_pvalue(value, values_series):\n",
    "    rank = (values_series > value).sum()\n",
    "    total = len(values_series)\n",
    "    return rank / total\n",
    "\n",
    "# Example usage:\n",
    "example_lsbl = df[\"LSBL_KAZ\"].iloc[0]\n",
    "pval = empirical_pvalue(example_lsbl, df[\"LSBL_KAZ\"])\n",
    "print(f\"Empirical p-value for LSBL={example_lsbl:.4f}: {pval:.4f}\")"
   ]
  },
  {
   "cell_type": "code",
   "execution_count": 2,
   "id": "196ade9e-0829-4fcf-ae02-78bb087d3473",
   "metadata": {},
   "outputs": [
    {
     "name": "stdout",
     "output_type": "stream",
     "text": [
      "{'SNP': 'rs2108622', 'LSBL': np.float64(0.03196794), 'Rank': np.int64(3697), 'Total_SNPs': 496996, 'Empirical_p_value': np.float64(0.0074386916594902175)}\n",
      "{'SNP': 'rs3745274', 'LSBL': np.float64(-0.0017728315), 'Rank': np.int64(147956), 'Total_SNPs': 496996, 'Empirical_p_value': np.float64(0.2977005851153732)}\n",
      "{'SNP': 'rs3745274', 'LSBL': np.float64(-0.0017728315), 'Rank': np.int64(147956), 'Total_SNPs': 496996, 'Empirical_p_value': np.float64(0.2977005851153732)}\n",
      "{'SNP': 'rs4148323', 'LSBL': np.float64(-0.0030528150000000004), 'Rank': np.int64(206545), 'Total_SNPs': 496996, 'Empirical_p_value': np.float64(0.41558684576938243)}\n",
      "{'SNP': 'rs2070959', 'LSBL': np.float64(-0.009983164999999999), 'Rank': np.int64(348731), 'Total_SNPs': 496996, 'Empirical_p_value': np.float64(0.7016776794984265)}\n",
      "{'SNP': 'rs4988235', 'LSBL': np.float64(-0.04315664999999999), 'Rank': np.int64(463761), 'Total_SNPs': 496996, 'Empirical_p_value': np.float64(0.9331282344324703)}\n",
      "{'SNP': 'rs1573496', 'LSBL': np.float64(-0.008545642000000003), 'Rank': np.int64(334000), 'Total_SNPs': 496996, 'Empirical_p_value': np.float64(0.672037601912289)}\n",
      "{'SNP': 'rs671', 'LSBL': np.float64(-0.012193599999999999), 'Rank': np.int64(365323), 'Total_SNPs': 496996, 'Empirical_p_value': np.float64(0.7350622540221652)}\n",
      "{'SNP': 'rs4148323', 'LSBL': np.float64(-0.0030528150000000004), 'Rank': np.int64(206545), 'Total_SNPs': 496996, 'Empirical_p_value': np.float64(0.41558684576938243)}\n",
      "{'SNP': 'rs2056900', 'LSBL': np.float64(-0.042473000000000004), 'Rank': np.int64(462704), 'Total_SNPs': 496996, 'Empirical_p_value': np.float64(0.9310014567521671)}\n",
      "{'SNP': 'rs2076740', 'LSBL': np.float64(-0.004245164999999999), 'Rank': np.int64(241978), 'Total_SNPs': 496996, 'Empirical_p_value': np.float64(0.486881182142311)}\n",
      "{'SNP': 'rs189261858', 'LSBL': np.float64(0.0015283249999999999), 'Rank': np.int64(74638), 'Total_SNPs': 496996, 'Empirical_p_value': np.float64(0.15017827105248333)}\n"
     ]
    }
   ],
   "source": [
    "def lookup_snp_rank(snp_id, df, lsbl_column=\"LSBL_KAZ\"):\n",
    "    if snp_id not in df[\"rsID\"].values:\n",
    "        return f\"SNP '{snp_id}' not found in the dataset.\"\n",
    "    \n",
    "    row = df[df[\"rsID\"] == snp_id].iloc[0]\n",
    "    lsbl_value = row[lsbl_column]\n",
    "    \n",
    "    # Rank is how many SNPs have higher LSBL (1-based)\n",
    "    rank = (df[lsbl_column] > lsbl_value).sum() + 1\n",
    "    total = len(df)\n",
    "    pval = rank / total\n",
    "\n",
    "    return {\n",
    "        \"SNP\": snp_id,\n",
    "        \"LSBL\": lsbl_value,\n",
    "        \"Rank\": rank,\n",
    "        \"Total_SNPs\": total,\n",
    "        \"Empirical_p_value\": pval\n",
    "    }\n",
    "\n",
    "print(lookup_snp_rank(\"rs2108622\", df))\n",
    "print(lookup_snp_rank(\"rs3745274\", df))\n",
    "print(lookup_snp_rank(\"rs3745274\", df))\n",
    "print(lookup_snp_rank(\"rs4148323\", df))\n",
    "print(lookup_snp_rank(\"rs2070959\", df))\n",
    "print(lookup_snp_rank(\"rs4988235\", df))\n",
    "print(lookup_snp_rank(\"rs1573496\", df))\n",
    "print(lookup_snp_rank(\"rs671\", df))\n",
    "print(lookup_snp_rank(\"rs4148323\", df))\n",
    "print(lookup_snp_rank(\"rs2056900\", df))\n",
    "print(lookup_snp_rank(\"rs2076740\", df))\n",
    "print(lookup_snp_rank(\"rs189261858\", df))"
   ]
  },
  {
   "cell_type": "code",
   "execution_count": 3,
   "id": "1f231189-5a8c-42b5-88e1-9b874af5e52c",
   "metadata": {},
   "outputs": [
    {
     "name": "stdout",
     "output_type": "stream",
     "text": [
      "        SNP      LSBL   Rank  Total_SNPs  Empirical_p_value\n",
      "  rs2108622  0.031968   3697      496996           0.007439\n",
      "  rs3745274 -0.001773 147956      496996           0.297701\n",
      "  rs4148323 -0.003053 206545      496996           0.415587\n",
      "  rs2070959 -0.009983 348731      496996           0.701678\n",
      "  rs4988235 -0.043157 463761      496996           0.933128\n",
      "  rs1573496 -0.008546 334000      496996           0.672038\n",
      "      rs671 -0.012194 365323      496996           0.735062\n",
      "  rs2056900 -0.042473 462704      496996           0.931001\n",
      "  rs2076740 -0.004245 241978      496996           0.486881\n",
      "rs189261858  0.001528  74638      496996           0.150178\n"
     ]
    }
   ],
   "source": [
    "import pandas as pd\n",
    "\n",
    "# List of SNPs to look up\n",
    "snp_list = [\n",
    "    \"rs2108622\", \"rs3745274\", \"rs3745274\", \"rs4148323\",\n",
    "    \"rs2070959\", \"rs4988235\", \"rs1573496\", \"rs671\",\n",
    "    \"rs4148323\", \"rs2056900\", \"rs2076740\", \"rs189261858\"\n",
    "]\n",
    "\n",
    "# Collect results\n",
    "results = []\n",
    "for snp in snp_list:\n",
    "    res = lookup_snp_rank(snp, df)\n",
    "    if isinstance(res, dict):\n",
    "        results.append(res)\n",
    "    else:\n",
    "        print(res)  # Print warning if SNP not found\n",
    "\n",
    "# Convert to DataFrame and display\n",
    "if results:\n",
    "    result_df = pd.DataFrame(results).drop_duplicates().reset_index(drop=True)\n",
    "    print(result_df.to_string(index=False))\n"
   ]
  },
  {
   "cell_type": "code",
   "execution_count": 4,
   "id": "08d40f61-7f03-4977-8257-2e8396b6f226",
   "metadata": {},
   "outputs": [
    {
     "data": {
      "text/plain": [
       "24849"
      ]
     },
     "execution_count": 4,
     "metadata": {},
     "output_type": "execute_result"
    }
   ],
   "source": [
    "# Compute empirical p-values for LSBL_KAZ\n",
    "df[\"Empirical_p_value\"] = df[\"LSBL_KAZ\"].rank(method=\"max\", ascending=False) / len(df)\n",
    "significant_rsids = df[df[\"Empirical_p_value\"] < 0.05][\"rsID\"].tolist()\n",
    "len(significant_rsids)"
   ]
  },
  {
   "cell_type": "code",
   "execution_count": 5,
   "id": "3f73fc10-a374-49f1-9166-3a67aa30c1e7",
   "metadata": {},
   "outputs": [
    {
     "name": "stdout",
     "output_type": "stream",
     "text": [
      "Found 7 SNPs from for_search_snps.txt in significant LSBL hits.\n",
      "Matching SNPs: ['rs1057911', 'rs121909046', 'rs2108622', 'rs2297595', 'rs2302427', 'rs4665850', 'rs971074']\n"
     ]
    }
   ],
   "source": [
    "# Step 1: Read SNPs to search for\n",
    "with open(\"for_search_snps.txt\") as f:\n",
    "    search_snps = set(line.strip() for line in f if line.strip())\n",
    "\n",
    "# Step 2: Convert significant_rsids to a set for fast lookup\n",
    "significant_set = set(significant_rsids)\n",
    "\n",
    "# Step 3: Find overlap\n",
    "common_snps = search_snps & significant_set\n",
    "\n",
    "# Step 4: Output\n",
    "print(f\"Found {len(common_snps)} SNPs from for_search_snps.txt in significant LSBL hits.\")\n",
    "print(\"Matching SNPs:\", sorted(common_snps))\n"
   ]
  },
  {
   "cell_type": "code",
   "execution_count": 6,
   "id": "69a884e7-fbb0-4491-ae44-72efc519eb5c",
   "metadata": {},
   "outputs": [
    {
     "name": "stdout",
     "output_type": "stream",
     "text": [
      "SNP 'rs181461079' not found in the dataset.\n",
      "SNP 'rs28365085' not found in the dataset.\n",
      "SNP 'rs80075254' not found in the dataset.\n",
      "SNP 'rs2842949' not found in the dataset.\n",
      "SNP 'rs1135840' not found in the dataset.\n",
      "SNP 'rs111567390' not found in the dataset.\n",
      "SNP 'rs145091069' not found in the dataset.\n",
      "SNP 'rs193922516' not found in the dataset.\n",
      "SNP 'rs1800111' not found in the dataset.\n",
      "SNP 'rs28647808' not found in the dataset.\n",
      "SNP 'rs61744232' not found in the dataset.\n",
      "SNP 'rs1800120' not found in the dataset.\n",
      "SNP 'rs138417770' not found in the dataset.\n",
      "SNP 'rs35516286' not found in the dataset.\n",
      "SNP 'rs2306282' not found in the dataset.\n",
      "SNP 'rs1051519' not found in the dataset.\n",
      "SNP 'rs114781869' not found in the dataset.\n",
      "SNP 'rs1800098' not found in the dataset.\n",
      "SNP 'rs55735703' not found in the dataset.\n",
      "SNP 'rs12623642' not found in the dataset.\n",
      "SNP 'rs34911792' not found in the dataset.\n",
      "SNP 'rs3814400' not found in the dataset.\n",
      "SNP 'rs183024280' not found in the dataset.\n",
      "SNP 'rs202132393' not found in the dataset.\n",
      "SNP 'rs118203758' not found in the dataset.\n",
      "SNP 'rs267608308' not found in the dataset.\n",
      "SNP 'rs121913132' not found in the dataset.\n",
      "SNP 'rs144906900' not found in the dataset.\n",
      "SNP 'rs79292917' not found in the dataset.\n",
      "SNP 'rs1135824' not found in the dataset.\n",
      "SNP 'rs34399362' not found in the dataset.\n",
      "SNP 'rs138731520' not found in the dataset.\n",
      "SNP 'rs61734277' not found in the dataset.\n",
      "        SNP      LSBL   Rank  Total_SNPs  Empirical_p_value\n",
      "rs147390019       NaN      1      496996           0.000002\n",
      " rs11971167       NaN      1      496996           0.000002\n",
      " rs11988457       NaN      1      496996           0.000002\n",
      "rs138607412       NaN      1      496996           0.000002\n",
      "rs200562975       NaN      1      496996           0.000002\n",
      " rs78909145       NaN      1      496996           0.000002\n",
      "  rs1057911  0.890921    345      496996           0.000694\n",
      "  rs2302427  0.826471    417      496996           0.000839\n",
      "rs121909046  0.035814   2832      496996           0.005698\n",
      "  rs2108622  0.031968   3697      496996           0.007439\n",
      "   rs971074  0.013642  17118      496996           0.034443\n",
      "  rs2297595  0.010984  22437      496996           0.045145\n",
      "  rs4665850  0.010089  24813      496996           0.049926\n",
      "  rs3795958  0.010025  24961      496996           0.050224\n",
      "  rs8192709  0.006898  35999      496996           0.072433\n",
      " rs56038477  0.006716  36933      496996           0.074312\n",
      "rs115545701  0.005612  42678      496996           0.085872\n",
      "  rs2275622  0.005515  43097      496996           0.086715\n",
      "rs182132442  0.003864  53914      496996           0.108480\n",
      "  rs1801159  0.003564  55895      496996           0.112466\n",
      "rs143563851  0.003404  57085      496996           0.114860\n",
      "rs150157202  0.002822  61633      496996           0.124011\n",
      " rs80010329  0.002822  61633      496996           0.124011\n",
      "rs112138627  0.002606  65069      496996           0.130925\n",
      "   rs213950  0.001565  74265      496996           0.149428\n",
      "rs189261858  0.001528  74638      496996           0.150178\n",
      " rs34245489  0.001408  76236      496996           0.153394\n",
      " rs80356570  0.001059  81860      496996           0.164710\n",
      "rs116855232  0.000632  87927      496996           0.176917\n",
      "   rs886090  0.000465  90413      496996           0.181919\n",
      " rs41296069 -0.000008  97395      496996           0.195967\n",
      " rs34946978 -0.000066  98484      496996           0.198159\n",
      " rs35303484 -0.000453 108569      496996           0.218450\n",
      " rs61750442 -0.000453 108569      496996           0.218450\n",
      "   rs760202 -0.000786 116705      496996           0.234821\n",
      "  rs1142345 -0.000788 116761      496996           0.234933\n",
      " rs61732042 -0.000875 118824      496996           0.239084\n",
      "  rs1800073 -0.000949 120536      496996           0.242529\n",
      "  rs2240229 -0.001038 123284      496996           0.248058\n",
      " rs61745424 -0.001105 125280      496996           0.252074\n",
      "  rs2240228 -0.001251 130242      496996           0.262058\n",
      "rs114415198 -0.001401 136506      496996           0.274662\n",
      " rs76028807 -0.001401 136506      496996           0.274662\n",
      "  rs1800100 -0.001453 139206      496996           0.280095\n",
      "  rs1057910 -0.001532 142759      496996           0.287244\n",
      "  rs2842934 -0.001566 143660      496996           0.289057\n",
      "  rs3745274 -0.001773 147956      496996           0.297701\n",
      "  rs6977165 -0.001940 151553      496996           0.304938\n",
      "rs147530219 -0.002104 156719      496996           0.315333\n",
      " rs45589337 -0.002122 157738      496996           0.317383\n",
      " rs45625038 -0.002199 163306      496996           0.328586\n",
      "  rs4956145 -0.002299 168588      496996           0.339214\n",
      "  rs2108623 -0.002404 170445      496996           0.342950\n",
      "rs114458301 -0.002406 170470      496996           0.343001\n",
      "  rs3826711 -0.002456 172483      496996           0.347051\n",
      " rs61735992 -0.002789 186011      496996           0.374271\n",
      "  rs1801158 -0.002802 188153      496996           0.378581\n",
      "  rs5744204 -0.002948 198749      496996           0.399901\n",
      " rs55752621 -0.002966 200090      496996           0.402599\n",
      "rs144833582 -0.002977 202538      496996           0.407524\n",
      "  rs4148323 -0.003053 206545      496996           0.415587\n",
      " rs11902679 -0.003362 212178      496996           0.426921\n",
      " rs12616661 -0.003411 212959      496996           0.428492\n",
      "rs117579945 -0.003471 215278      496996           0.433158\n",
      "rs186364861 -0.003549 219309      496996           0.441269\n",
      "  rs4244285 -0.003683 225467      496996           0.453660\n",
      "rs139418895 -0.003699 225980      496996           0.454692\n",
      "rs142369206 -0.003755 227216      496996           0.457179\n",
      "  rs1126545 -0.003770 227375      496996           0.457499\n",
      "  rs2302819 -0.003829 231021      496996           0.464835\n",
      "  rs2076740 -0.004245 241978      496996           0.486881\n",
      " rs11687280 -0.004247 242012      496996           0.486950\n",
      "  rs4667337 -0.004346 247798      496996           0.498592\n",
      "rs138013556 -0.004368 249940      496996           0.502901\n",
      " rs72840622 -0.004730 258488      496996           0.520101\n",
      " rs13306164 -0.004886 263355      496996           0.529894\n",
      " rs75789129 -0.005552 280236      496996           0.563860\n",
      "  rs4149056 -0.005661 283005      496996           0.569431\n",
      "  rs2032349 -0.005764 286040      496996           0.575538\n",
      "  rs7230037 -0.005838 288779      496996           0.581049\n",
      "  rs1801265 -0.005968 290637      496996           0.584787\n",
      "  rs1801160 -0.007053 311931      496996           0.627633\n",
      " rs34671512 -0.007520 319555      496996           0.642973\n",
      " rs17056661 -0.007538 319722      496996           0.643309\n",
      "  rs1800095 -0.008054 327285      496996           0.658526\n",
      "     rs6336 -0.008313 330556      496996           0.665108\n",
      "  rs1573496 -0.008546 334000      496996           0.672038\n",
      "  rs2070959 -0.009983 348731      496996           0.701678\n",
      "      rs671 -0.012194 365323      496996           0.735062\n",
      " rs17886522 -0.012958 369949      496996           0.744370\n",
      " rs17376848 -0.013070 370629      496996           0.745738\n",
      "  rs4986893 -0.013123 370915      496996           0.746314\n",
      " rs34218846 -0.013357 372293      496996           0.749087\n",
      " rs16980994 -0.013581 373515      496996           0.751545\n",
      " rs12605328 -0.015423 383043      496996           0.770716\n",
      " rs77379751 -0.015546 383636      496996           0.771910\n",
      "  rs7023244 -0.020670 405971      496996           0.816850\n",
      " rs10841795 -0.021159 407818      496996           0.820566\n",
      "  rs6962772 -0.024719 420525      496996           0.846134\n",
      " rs17708472 -0.026038 424759      496996           0.854653\n",
      " rs17595186 -0.026827 427303      496996           0.859772\n",
      " rs17502738 -0.032288 442297      496996           0.889941\n",
      " rs77860794 -0.032494 442796      496996           0.890945\n",
      " rs56727079 -0.038563 455950      496996           0.917412\n",
      "  rs1789915 -0.042817 463216      496996           0.932032\n",
      "  rs2884737 -0.046631 468815      496996           0.943297\n",
      "  rs2306283 -0.048704 471506      496996           0.948712\n",
      "  rs1126672 -0.050015 473175      496996           0.952070\n",
      "  rs4149057 -0.050299 473526      496996           0.952776\n",
      "  rs1126670 -0.052543 476031      496996           0.957817\n",
      "  rs1126671 -0.052543 476031      496996           0.957817\n",
      "  rs1042636 -0.059650 482624      496996           0.971082\n"
     ]
    }
   ],
   "source": [
    "results = []\n",
    "for snp in search_snps:\n",
    "    res = lookup_snp_rank(snp, df)\n",
    "    if isinstance(res, dict):\n",
    "        results.append(res)\n",
    "    else:\n",
    "        print(res)  # Print warning if SNP not found\n",
    "\n",
    "# Convert to DataFrame and display sorted by Empirical_p_value\n",
    "if results:\n",
    "    result_df = pd.DataFrame(results).drop_duplicates().reset_index(drop=True)\n",
    "    result_df = result_df.sort_values(\"Empirical_p_value\")\n",
    "    print(result_df.to_string(index=False))"
   ]
  },
  {
   "cell_type": "code",
   "execution_count": 7,
   "id": "bb27f86c-3c56-4be4-a1a2-db98e48befd1",
   "metadata": {},
   "outputs": [
    {
     "name": "stdout",
     "output_type": "stream",
     "text": [
      "Found 156 SNPs from snps_of_interest_list.txt in significant LSBL hits.\n"
     ]
    },
    {
     "name": "stderr",
     "output_type": "stream",
     "text": [
      "/var/folders/d2/h4x4cs9x3gldcdn13dk70_xh0000gn/T/ipykernel_42398/2463019514.py:30: DtypeWarning: Columns (0,1,3,4) have mixed types. Specify dtype option on import or set low_memory=False.\n",
      "  df = pd.read_csv(file, sep=\"\\t\", header=None, names=[\"CHR\", \"POS\", \"ID\", \"N\", f\"FST_{name}\"])\n",
      "/var/folders/d2/h4x4cs9x3gldcdn13dk70_xh0000gn/T/ipykernel_42398/2463019514.py:30: DtypeWarning: Columns (0,1,3,4) have mixed types. Specify dtype option on import or set low_memory=False.\n",
      "  df = pd.read_csv(file, sep=\"\\t\", header=None, names=[\"CHR\", \"POS\", \"ID\", \"N\", f\"FST_{name}\"])\n",
      "/var/folders/d2/h4x4cs9x3gldcdn13dk70_xh0000gn/T/ipykernel_42398/2463019514.py:30: DtypeWarning: Columns (0,1,3,4) have mixed types. Specify dtype option on import or set low_memory=False.\n",
      "  df = pd.read_csv(file, sep=\"\\t\", header=None, names=[\"CHR\", \"POS\", \"ID\", \"N\", f\"FST_{name}\"])\n"
     ]
    }
   ],
   "source": [
    "import pandas as pd\n",
    "\n",
    "# Step 1: Read SNPs to search for\n",
    "with open(\"snps_of_interest_list.txt\") as f:\n",
    "    search_snps = set(line.strip() for line in f if line.strip())\n",
    "\n",
    "# Step 2: Convert significant_rsids to a set for fast lookup\n",
    "significant_set = set(significant_rsids)\n",
    "\n",
    "# Step 3: Find overlap\n",
    "common_snps = search_snps & significant_set\n",
    "print(f\"Found {len(common_snps)} SNPs from snps_of_interest_list.txt in significant LSBL hits.\")\n",
    "#print(\"Matching SNPs:\", sorted(common_snps))\n",
    "\n",
    "# Step 4: Load MAFs and FSTs\n",
    "def load_afreq(file, pop):\n",
    "    df = pd.read_csv(file, sep=\"\\t\", header=0)\n",
    "    \n",
    "    # Fix column name for compatibility\n",
    "    df.rename(columns={\"#CHROM\": \"CHROM\"}, inplace=True)\n",
    "\n",
    "    # Select and rename relevant columns\n",
    "    return df[[\"ID\", \"REF\", \"ALT\", \"ALT_FREQS\"]].rename(columns={\n",
    "        \"REF\": f\"REF_{pop}\",\n",
    "        \"ALT\": f\"ALT_{pop}\",\n",
    "        \"ALT_FREQS\": f\"MAF_{pop}\"\n",
    "    })\n",
    "\n",
    "def load_fst(file, name):\n",
    "    df = pd.read_csv(file, sep=\"\\t\", header=None, names=[\"CHR\", \"POS\", \"ID\", \"N\", f\"FST_{name}\"])\n",
    "    return df[[\"ID\", f\"FST_{name}\"]]\n",
    "\n",
    "maf_eas = load_afreq(\"only_EAS.afreq\", \"EAS\")\n",
    "maf_eur = load_afreq(\"only_EUR.afreq\", \"EUR\")\n",
    "maf_kaz = load_afreq(\"only_KAZ.afreq\", \"KAZ\")\n",
    "\n",
    "fst_eas_kaz = load_fst(\"pairwise_fst.EAS.KAZ.fst.var\", \"EAS_KAZ\")\n",
    "fst_eas_eur = load_fst(\"pairwise_fst.EAS.EUR.fst.var\", \"EAS_EUR\")\n",
    "fst_eur_kaz = load_fst(\"pairwise_fst.EUR.KAZ.fst.var\", \"EUR_KAZ\")\n",
    "\n",
    "# Step 5: Build enriched result table\n",
    "results = []\n",
    "for snp in common_snps:\n",
    "    res = lookup_snp_rank(snp, df)\n",
    "    if isinstance(res, dict):\n",
    "        results.append(res)\n",
    "    else:\n",
    "        print(res)\n",
    "\n",
    "if results:\n",
    "    result_df = pd.DataFrame(results).drop_duplicates().reset_index(drop=True)\n",
    "\n",
    "    # Merge in MAFs and FSTs\n",
    "    for table in [maf_eas, maf_eur, maf_kaz, fst_eas_kaz, fst_eas_eur, fst_eur_kaz]:\n",
    "        result_df = result_df.merge(table, left_on=\"SNP\", right_on=\"ID\", how=\"left\").drop(columns=[\"ID\"])\n",
    "\n",
    "    # Sort and display\n",
    "    result_df = result_df.sort_values(\"Empirical_p_value\")\n",
    "    #print(result_df.to_string(index=False))"
   ]
  },
  {
   "cell_type": "code",
   "execution_count": 8,
   "id": "13f59582-3624-4334-a016-051f90115409",
   "metadata": {},
   "outputs": [],
   "source": [
    "# Keep only rows where all REF and all ALT alleles match across populations\n",
    "consistent_df = result_df[\n",
    "    (result_df[\"REF_EAS\"] == result_df[\"REF_KAZ\"]) &\n",
    "    (result_df[\"REF_EAS\"] == result_df[\"REF_EUR\"]) &\n",
    "    (result_df[\"ALT_EAS\"] == result_df[\"ALT_KAZ\"]) &\n",
    "    (result_df[\"ALT_EAS\"] == result_df[\"ALT_EUR\"])\n",
    "].reset_index(drop=True)"
   ]
  },
  {
   "cell_type": "code",
   "execution_count": 9,
   "id": "eaf3dd7f-145b-468a-a984-96682b2f59c6",
   "metadata": {},
   "outputs": [
    {
     "name": "stdout",
     "output_type": "stream",
     "text": [
      "Filtered out 83 inconsistent SNPs.\n",
      "Remaining consistent SNPs: 73\n"
     ]
    }
   ],
   "source": [
    "print(f\"Filtered out {len(result_df) - len(consistent_df)} inconsistent SNPs.\")\n",
    "print(f\"Remaining consistent SNPs: {len(consistent_df)}\")"
   ]
  },
  {
   "cell_type": "code",
   "execution_count": 10,
   "id": "67491d30-5604-41a5-8a68-98fc7bd1529a",
   "metadata": {},
   "outputs": [],
   "source": [
    "consistent_df.to_csv(\"consistent_lsbl_results.csv\", index=False)\n"
   ]
  },
  {
   "cell_type": "code",
   "execution_count": null,
   "id": "f80c5b94-2d92-416f-b67b-3fc09a6ead95",
   "metadata": {},
   "outputs": [],
   "source": []
  }
 ],
 "metadata": {
  "kernelspec": {
   "display_name": "Python 3 (ipykernel)",
   "language": "python",
   "name": "python3"
  },
  "language_info": {
   "codemirror_mode": {
    "name": "ipython",
    "version": 3
   },
   "file_extension": ".py",
   "mimetype": "text/x-python",
   "name": "python",
   "nbconvert_exporter": "python",
   "pygments_lexer": "ipython3",
   "version": "3.12.3"
  }
 },
 "nbformat": 4,
 "nbformat_minor": 5
}
